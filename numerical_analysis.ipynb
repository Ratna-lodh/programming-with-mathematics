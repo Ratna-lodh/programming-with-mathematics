{
 "cells": [
  {
   "cell_type": "code",
   "execution_count": null,
   "metadata": {},
   "outputs": [],
   "source": [
    "print('hello')"
   ]
  },
  {
   "cell_type": "code",
   "execution_count": null,
   "metadata": {},
   "outputs": [],
   "source": []
  },
  {
   "cell_type": "markdown",
   "metadata": {},
   "source": [
    "# Bisection Method\n",
    "#### Here the fucntion is x^3+4x^2-10=f(x)  , here [1,2] and ephsilon=0.0001"
   ]
  },
  {
   "cell_type": "markdown",
   "metadata": {},
   "source": []
  },
  {
   "cell_type": "code",
   "execution_count": 8,
   "metadata": {},
   "outputs": [
    {
     "name": "stdout",
     "output_type": "stream",
     "text": [
      "the solution is 1.365203857421875\n",
      "-0.00043191879925075227\n",
      "14\n"
     ]
    }
   ],
   "source": [
    "#let\n",
    "def fun(a):\n",
    "    return (a**3 + 4*a**2 -10)\n",
    "tolarance=0.0001\n",
    "a=float(input())\n",
    "b=float(input())\n",
    "\n",
    "\n",
    "\n",
    "if fun(a)==0:\n",
    "    print(f\"soltuion is {a}\")\n",
    "elif fun(b)==0:\n",
    "    print(f\"the soltion is {b}\")\n",
    "elif fun(a)*fun(b)>0:\n",
    "    raise ValueError(\"The fucntion must have the different sign of value \")\n",
    "else:\n",
    "    t=0\n",
    "    while abs(a-b)>tolarance:\n",
    "        \n",
    "        c=(a+b)/2\n",
    "        if fun(c)==0:\n",
    "            print(f'the solution is {c}')\n",
    "            break\n",
    "        elif fun(c)*fun(a)<0:\n",
    "            b=c\n",
    "        else:\n",
    "            a=c\n",
    "        # check if the current interval is within the tolarance\n",
    "        t+=1\n",
    "        \n",
    "    else:\n",
    "        c=(a+b)/2\n",
    "        print(f\"the solution is {c}\")\n",
    "        print(fun(c))\n",
    "        print(t)\n",
    "        \n"
   ]
  },
  {
   "cell_type": "code",
   "execution_count": 9,
   "metadata": {},
   "outputs": [
    {
     "name": "stdout",
     "output_type": "stream",
     "text": [
      "The root is approximately: 1.5213796496391296\n"
     ]
    }
   ],
   "source": [
    "def bisection_method(func, a, b, tol=1e-7):\n",
    "    \"\"\"\n",
    "    Perform the bisection method to find a root of the function func within the interval [a, b].\n",
    "\n",
    "    Parameters:\n",
    "    func (callable): The function for which to find the root.\n",
    "    a (float): The lower bound of the interval.\n",
    "    b (float): The upper bound of the interval.\n",
    "    tol (float): The tolerance for the root (default is 1e-7).\n",
    "\n",
    "    Returns:\n",
    "    float: The approximate root of the function.\n",
    "    \"\"\"\n",
    "    # Step 2: Does f(a) == 0?\n",
    "    if func(a) == 0:\n",
    "        return a\n",
    "    \n",
    "    # Step 3: Does f(b) == 0?\n",
    "    if func(b) == 0:\n",
    "        return b\n",
    "    \n",
    "    # Step 4: If f(a) * f(b) > 0, the root is not bracketed.\n",
    "    if func(a) * func(b) > 0:\n",
    "        raise ValueError(\"The function must have different signs at the endpoints a and b.\")\n",
    "    \n",
    "    # Step 5: Begin loop\n",
    "    while (b - a) / 2.0 > tol:\n",
    "        # Step 6: Midpoint c = (a + b) / 2\n",
    "        c = (a + b) / 2.0\n",
    "        if func(c) == 0:\n",
    "            return c  # Found exact solution.\n",
    "        \n",
    "        # Step 8: If f(a) * f(c) < 0, set b = c, else set a = c\n",
    "        if func(a) * func(c) < 0:\n",
    "            b = c\n",
    "        else:\n",
    "            a = c\n",
    "        \n",
    "        # Step 7: If |a - b| < ε, quit with the approximate solution x = c\n",
    "        if abs(a - b) < tol:\n",
    "            return c\n",
    "    \n",
    "    return (a + b) / 2.0\n",
    "\n",
    "# Example usage:\n",
    "if __name__ == \"__main__\":\n",
    "    def f(x):\n",
    "        return x**3 - x - 2\n",
    "\n",
    "    root = bisection_method(f, 1, 2)\n",
    "    print(f\"The root is approximately: {root}\")\n",
    "    "
   ]
  },
  {
   "cell_type": "markdown",
   "metadata": {},
   "source": [
    "# Regular falsi method or false position method"
   ]
  },
  {
   "cell_type": "code",
   "execution_count": 10,
   "metadata": {},
   "outputs": [
    {
     "name": "stdout",
     "output_type": "stream",
     "text": [
      "the approximate solution is 1.365229906940572\n",
      "10\n"
     ]
    }
   ],
   "source": [
    "a=float(input())\n",
    "b=float(input()\n",
    "        )\n",
    "l=0.00001\n",
    "# first we will check that the solution is on a or b\n",
    "if fun(a)==0:\n",
    "        \n",
    "        print(f\"the soltuion is {a}\")\n",
    "elif fun(b)==0:\n",
    "        print(f\"the solution is {b}\")\n",
    "elif fun(a)*fun(b)>0:\n",
    "        raise ValueError(\"Here the interval is not bracketed thus we can not use false position method \")\n",
    "else:\n",
    "        t=0\n",
    "        while abs(fun(a))>l and abs(fun(b))>l:\n",
    "                c=(a*fun(b)-b*fun(a))/(fun(b)-fun(a))\n",
    "                if fun(c)==0:\n",
    "                        print(f\"the solution is {c}\")\n",
    "                        break\n",
    "                elif fun(a)*fun(c)<0:\n",
    "                        b=c\n",
    "                else:\n",
    "                        a=c\n",
    "                '''if abs(fun(a))<l:\n",
    "                        print(f'the approximate soltuiion is {a}')\n",
    "                elif abs(fun(b))<0:\n",
    "                        print(f\"the approximate solution is {b}\")'''\n",
    "                t+=1\n",
    "        else:\n",
    "                c=(a*fun(b)-b*fun(a))/(fun(b)-fun(a))\n",
    "                print(f\"the approximate solution is {c}\")\n",
    "                print(t)\n",
    "                        \n",
    "                        \n",
    "                \n"
   ]
  },
  {
   "cell_type": "markdown",
   "metadata": {},
   "source": [
    "# Newton Raphson Method "
   ]
  },
  {
   "cell_type": "code",
   "execution_count": 11,
   "metadata": {},
   "outputs": [
    {
     "name": "stdout",
     "output_type": "stream",
     "text": [
      "1.3652300134140969\n",
      "4\n"
     ]
    }
   ],
   "source": [
    "# first we have to define a function \n",
    "import numpy as np \n",
    "\n",
    "def f(x):\n",
    "    return (x**3 + 4*x**2 -10)\n",
    "def diff_f(a):\n",
    "    dx=1e-6\n",
    "    return (f(a+dx)-f(a))/dx\n",
    "# we have to assume a staring point to start the iteration \n",
    "step_size=0.000001\n",
    "a=float(input())\n",
    "\n",
    "\n",
    "\n",
    "if f(a)==0:\n",
    "    print(f\"the soltuion of the fucntion is {a}\")\n",
    "\n",
    "elif diff_f(a)==0:\n",
    "    raise ValueError(\"that can not be found the solution \")\n",
    "\n",
    "else :\n",
    "    b=a-(f(a)/diff_f(a))\n",
    "    t=0\n",
    "    \n",
    "    while abs(a-b)>step_size:\n",
    "        a=b\n",
    "        if f(a)==0:\n",
    "            print(f\"the aproximate solution is {a}\")\n",
    "            break\n",
    "        else:\n",
    "            b=a-(f(a)/diff_f(a))\n",
    "        t+=1\n",
    "            \n",
    "        \n",
    "    print(b)\n",
    "    print(t)\n",
    "    \n",
    "        \n",
    "        \n",
    "        \n",
    "        \n",
    "        \n",
    "        \n",
    "    \n",
    "    "
   ]
  },
  {
   "cell_type": "markdown",
   "metadata": {},
   "source": [
    "# fixed point iteration method \n"
   ]
  },
  {
   "cell_type": "code",
   "execution_count": 4,
   "metadata": {},
   "outputs": [
    {
     "name": "stdout",
     "output_type": "stream",
     "text": [
      "the solution is 1.3652058502970472\n",
      "13\n"
     ]
    }
   ],
   "source": [
    "# here the given fucntion is \n",
    "#   x**3 + 4*x**2 -10 ==0\n",
    "#   then we have to make a g(x)=x\n",
    "\n",
    "#  here the g(x)=(10-4x^2)**1/3\n",
    "\n",
    "\n",
    "def g(x):\n",
    "    return 0.5*((10-x**3)**(1/2))\n",
    "\n",
    "# we have to start the iteration \n",
    "\n",
    "a=float(input())\n",
    "b=g(a)\n",
    "step_size=0.0001\n",
    "t=0\n",
    "\n",
    "while abs(a-b)>step_size:\n",
    "    a=b\n",
    "    b=g(a)\n",
    "    \n",
    "    t+=1\n",
    "print(f\"the solution is {b}\")\n",
    "print(t)"
   ]
  },
  {
   "cell_type": "markdown",
   "metadata": {},
   "source": [
    "# secent method \n"
   ]
  },
  {
   "cell_type": "code",
   "execution_count": 3,
   "metadata": {},
   "outputs": [
    {
     "name": "stdout",
     "output_type": "stream",
     "text": [
      "the appoximate soltuion is 1.3652300134142061\n",
      "the snumber of iteration is 7\n"
     ]
    }
   ],
   "source": [
    "def fun(a):\n",
    "    return (a**3 + 4*a**2 -10)\n",
    "tol=0.00001\n",
    "\n",
    "a=0\n",
    "b=1\n",
    "if fun(a)==0:\n",
    "    print(f\"soltuion is {a}\")\n",
    "elif fun(b)==0:\n",
    "    print(f\"the soltion is {b}\")\n",
    "else:\n",
    "    t=0\n",
    "    while abs(a-b)>tol:\n",
    "        t+=1\n",
    "        c=(a*fun(b)-b*fun(a))/(fun(b)-fun(a))\n",
    "        if fun(c)==0:\n",
    "            print(f\"the solution is {c}\")\n",
    "            break\n",
    "        \n",
    "        else:\n",
    "            a=b\n",
    "         \n",
    "            b=c\n",
    "            \n",
    "    print(f\"the appoximate soltuion is {b}\")\n",
    "    print(f\"the snumber of iteration is {t}\")\n"
   ]
  },
  {
   "cell_type": "code",
   "execution_count": null,
   "metadata": {},
   "outputs": [],
   "source": []
  }
 ],
 "metadata": {
  "kernelspec": {
   "display_name": "base",
   "language": "python",
   "name": "python3"
  },
  "language_info": {
   "codemirror_mode": {
    "name": "ipython",
    "version": 3
   },
   "file_extension": ".py",
   "mimetype": "text/x-python",
   "name": "python",
   "nbconvert_exporter": "python",
   "pygments_lexer": "ipython3",
   "version": "3.9.13"
  }
 },
 "nbformat": 4,
 "nbformat_minor": 2
}
